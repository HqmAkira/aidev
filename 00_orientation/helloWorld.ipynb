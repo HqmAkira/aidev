{
 "cells": [
  {
   "cell_type": "markdown",
   "id": "861361ee",
   "metadata": {},
   "source": [
    "# Lesson0\n",
    "\n",
    "- Pythonの基本な書き方"
   ]
  },
  {
   "cell_type": "code",
   "execution_count": 1,
   "id": "cabaf83d",
   "metadata": {},
   "outputs": [
    {
     "name": "stdout",
     "output_type": "stream",
     "text": [
      "Hello, World!\n"
     ]
    }
   ],
   "source": [
    "print(\"Hello, World!\")"
   ]
  }
 ],
 "metadata": {
  "kernelspec": {
   "display_name": ".venv (3.12.10)",
   "language": "python",
   "name": "python3"
  },
  "language_info": {
   "codemirror_mode": {
    "name": "ipython",
    "version": 3
   },
   "file_extension": ".py",
   "mimetype": "text/x-python",
   "name": "python",
   "nbconvert_exporter": "python",
   "pygments_lexer": "ipython3",
   "version": "3.12.10"
  }
 },
 "nbformat": 4,
 "nbformat_minor": 5
}
